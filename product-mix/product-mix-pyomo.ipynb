{
 "cells": [
  {
   "cell_type": "markdown",
   "metadata": {},
   "source": [
    "# Product-mix Pyomo"
   ]
  },
  {
   "cell_type": "markdown",
   "metadata": {},
   "source": [
    "$$\n",
    "\\begin{align}\n",
    "    \\text{max} \\quad & \\sum_{j \\in J} c_j x_j \\\\\n",
    "    \\text{s.t.} \\quad & \\sum_{j \\in J} a_{i, j} x_{j} \\leq b_{i} & \\forall \\; i \\in I \\\\\n",
    "    & x_{j} \\geq 0 & \\forall \\; j \\in J \\\\\n",
    "\\end{align}\n",
    "$$"
   ]
  },
  {
   "cell_type": "code",
   "execution_count": 1,
   "metadata": {},
   "outputs": [],
   "source": [
    "# Python native modules\n",
    "import json\n",
    "\n",
    "# Third-party packages\n",
    "import pyomo.environ as pyo"
   ]
  },
  {
   "cell_type": "code",
   "execution_count": 2,
   "metadata": {},
   "outputs": [],
   "source": [
    "# Read input file and store in local variable `input_data`\n",
    "with open(\"input_prod_mix.json\", mode=\"r\", encoding=\"utf8\") as file:\n",
    "    input_data = json.load(file)"
   ]
  },
  {
   "cell_type": "code",
   "execution_count": 3,
   "metadata": {},
   "outputs": [
    {
     "data": {
      "text/plain": [
       "{'margins': [{'product': 'P1', 'value': 2.15},\n",
       "  {'product': 'P2', 'value': 1.34},\n",
       "  {'product': 'P3', 'value': 1.72}],\n",
       " 'availabilities': [{'resource': 'R1', 'value': 80},\n",
       "  {'resource': 'R2', 'value': 30},\n",
       "  {'resource': 'R3', 'value': 25}],\n",
       " 'proportions': [{'resource': 'R1', 'product': 'P1', 'proportion': 0.7},\n",
       "  {'resource': 'R1', 'product': 'P2', 'proportion': 0.3333333333333333},\n",
       "  {'resource': 'R1', 'product': 'P3', 'proportion': 0.5},\n",
       "  {'resource': 'R2', 'product': 'P1', 'proportion': 0.2},\n",
       "  {'resource': 'R2', 'product': 'P2', 'proportion': 0.6666666666666666},\n",
       "  {'resource': 'R2', 'product': 'P3', 'proportion': 0.16666666666666666},\n",
       "  {'resource': 'R3', 'product': 'P1', 'proportion': 0.1},\n",
       "  {'resource': 'R3', 'product': 'P2', 'proportion': 0.0},\n",
       "  {'resource': 'R3', 'product': 'P3', 'proportion': 0.3333333333333333}]}"
      ]
     },
     "execution_count": 3,
     "metadata": {},
     "output_type": "execute_result"
    }
   ],
   "source": [
    "input_data"
   ]
  },
  {
   "cell_type": "code",
   "execution_count": 4,
   "metadata": {},
   "outputs": [],
   "source": [
    "availabilities = {b[\"resource\"]: b[\"value\"] for b in input_data[\"availabilities\"]}\n",
    "margins = {c[\"product\"]: c[\"value\"] for c in input_data[\"margins\"]}\n",
    "proportions = {\n",
    "    (p[\"resource\"], p[\"product\"]): p[\"proportion\"]\n",
    "    for p in input_data[\"proportions\"]\n",
    "}"
   ]
  },
  {
   "cell_type": "code",
   "execution_count": 6,
   "metadata": {},
   "outputs": [
    {
     "name": "stdout",
     "output_type": "stream",
     "text": [
      "{'R1': 80, 'R2': 30, 'R3': 25}\n",
      "\n",
      "\n",
      "{'P1': 2.15, 'P2': 1.34, 'P3': 1.72}\n",
      "\n",
      "\n",
      "{('R1', 'P1'): 0.7, ('R1', 'P2'): 0.3333333333333333, ('R1', 'P3'): 0.5, ('R2', 'P1'): 0.2, ('R2', 'P2'): 0.6666666666666666, ('R2', 'P3'): 0.16666666666666666, ('R3', 'P1'): 0.1, ('R3', 'P2'): 0.0, ('R3', 'P3'): 0.3333333333333333}\n"
     ]
    }
   ],
   "source": [
    "print(availabilities)\n",
    "print('\\n')\n",
    "print(margins)\n",
    "print('\\n')\n",
    "print(proportions)"
   ]
  },
  {
   "cell_type": "code",
   "execution_count": 7,
   "metadata": {},
   "outputs": [],
   "source": [
    "# Create model instance\n",
    "model = pyo.ConcreteModel()"
   ]
  },
  {
   "cell_type": "code",
   "execution_count": 9,
   "metadata": {},
   "outputs": [],
   "source": [
    "# Sets for resources I and products J\n",
    "model.I = pyo.Set(initialize=availabilities.keys())\n",
    "model.J = pyo.Set(initialize=margins.keys())"
   ]
  },
  {
   "cell_type": "code",
   "execution_count": 10,
   "metadata": {},
   "outputs": [],
   "source": [
    "# Paramters\n",
    "model.c = pyo.Param(model.J, initialize=margins)\n",
    "model.b = pyo.Param(model.I, initialize=availabilities)\n",
    "model.a = pyo.Param(model.I, model.J, initialize=proportions)"
   ]
  },
  {
   "cell_type": "code",
   "execution_count": 13,
   "metadata": {},
   "outputs": [
    {
     "name": "stdout",
     "output_type": "stream",
     "text": [
      "a : Size=9, Index=I*J, Domain=Any, Default=None, Mutable=False\n",
      "    Key          : Value\n",
      "    ('R1', 'P1') :                 0.7\n",
      "    ('R1', 'P2') :  0.3333333333333333\n",
      "    ('R1', 'P3') :                 0.5\n",
      "    ('R2', 'P1') :                 0.2\n",
      "    ('R2', 'P2') :  0.6666666666666666\n",
      "    ('R2', 'P3') : 0.16666666666666666\n",
      "    ('R3', 'P1') :                 0.1\n",
      "    ('R3', 'P2') :                 0.0\n",
      "    ('R3', 'P3') :  0.3333333333333333\n"
     ]
    }
   ],
   "source": [
    "model.a.display()"
   ]
  },
  {
   "cell_type": "code",
   "execution_count": 14,
   "metadata": {},
   "outputs": [],
   "source": [
    "# Decision variables\n",
    "model.x = pyo.Var(model.J, within=pyo.NonNegativeReals)"
   ]
  },
  {
   "cell_type": "code",
   "execution_count": 15,
   "metadata": {},
   "outputs": [],
   "source": [
    "# Resource availablity constraints\n",
    "def av_cstr(model, i):\n",
    "    return sum(model.a[i, j] * model.x[j] for j in model.J) <= model.b[i]\n",
    "\n",
    "\n",
    "model.av_cstr = pyo.Constraint(model.I, rule=av_cstr)"
   ]
  },
  {
   "cell_type": "code",
   "execution_count": 16,
   "metadata": {},
   "outputs": [
    {
     "name": "stdout",
     "output_type": "stream",
     "text": [
      "av_cstr : Size=3, Index=I, Active=True\n",
      "    Key : Lower : Body                                                             : Upper : Active\n",
      "     R1 :  -Inf :                 0.7*x[P1] + 0.3333333333333333*x[P2] + 0.5*x[P3] :  80.0 :   True\n",
      "     R2 :  -Inf : 0.2*x[P1] + 0.6666666666666666*x[P2] + 0.16666666666666666*x[P3] :  30.0 :   True\n",
      "     R3 :  -Inf :                 0.1*x[P1] + 0.0*x[P2] + 0.3333333333333333*x[P3] :  25.0 :   True\n"
     ]
    }
   ],
   "source": [
    "model.av_cstr.pprint()"
   ]
  },
  {
   "cell_type": "code",
   "execution_count": 17,
   "metadata": {},
   "outputs": [],
   "source": [
    "# Objective function\n",
    "def obj(model):\n",
    "    return sum(model.c[j] * model.x[j] for j in model.J)\n",
    "\n",
    "\n",
    "\n",
    "model.obj = pyo.Objective(rule=obj, sense=pyo.maximize)"
   ]
  },
  {
   "cell_type": "code",
   "execution_count": 19,
   "metadata": {},
   "outputs": [
    {
     "name": "stdout",
     "output_type": "stream",
     "text": [
      "obj : Size=1, Index=None, Active=True\n",
      "    Key  : Active : Sense    : Expression\n",
      "    None :   True : maximize : 2.15*x[P1] + 1.34*x[P2] + 1.72*x[P3]\n"
     ]
    }
   ],
   "source": [
    "model.obj.pprint()"
   ]
  },
  {
   "cell_type": "code",
   "execution_count": 18,
   "metadata": {},
   "outputs": [],
   "source": [
    "# Instantiate Highs persistent solver (make sure highspy is installed)\n",
    "solver = pyo.SolverFactory(\"appsi_highs\")"
   ]
  },
  {
   "cell_type": "code",
   "execution_count": 20,
   "metadata": {},
   "outputs": [
    {
     "data": {
      "text/plain": [
       "{'Problem': [{'Lower bound': 258.8526315789474, 'Upper bound': 258.8526315789474, 'Number of objectives': 1, 'Number of constraints': 0, 'Number of variables': 0, 'Sense': 'maximize'}], 'Solver': [{'Status': 'ok', 'Termination condition': 'optimal', 'Termination message': 'TerminationCondition.optimal'}], 'Solution': [OrderedDict({'number of solutions': 0, 'number of solutions displayed': 0})]}"
      ]
     },
     "execution_count": 20,
     "metadata": {},
     "output_type": "execute_result"
    }
   ],
   "source": [
    "# Apply method solve\n",
    "solver.solve(model)"
   ]
  },
  {
   "cell_type": "code",
   "execution_count": 21,
   "metadata": {},
   "outputs": [
    {
     "data": {
      "text/plain": [
       "258.8526315789474"
      ]
     },
     "execution_count": 21,
     "metadata": {},
     "output_type": "execute_result"
    }
   ],
   "source": [
    "# Use objective as a callable to see its value\n",
    "model.obj()"
   ]
  },
  {
   "cell_type": "code",
   "execution_count": 22,
   "metadata": {},
   "outputs": [
    {
     "name": "stdout",
     "output_type": "stream",
     "text": [
      "71.05 units of Product P1\n",
      "10.26 units of Product P2\n",
      "53.68 units of Product P3\n"
     ]
    }
   ],
   "source": [
    "# Print results\n",
    "for j, xi in model.x.extract_values().items():\n",
    "    print(f\"{xi:.2f} units of Product {j}\")"
   ]
  },
  {
   "cell_type": "code",
   "execution_count": null,
   "metadata": {},
   "outputs": [],
   "source": []
  }
 ],
 "metadata": {
  "kernelspec": {
   "display_name": "base",
   "language": "python",
   "name": "python3"
  },
  "language_info": {
   "codemirror_mode": {
    "name": "ipython",
    "version": 3
   },
   "file_extension": ".py",
   "mimetype": "text/x-python",
   "name": "python",
   "nbconvert_exporter": "python",
   "pygments_lexer": "ipython3",
   "version": "3.12.3"
  }
 },
 "nbformat": 4,
 "nbformat_minor": 2
}
