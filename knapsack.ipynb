{
 "cells": [
  {
   "cell_type": "markdown",
   "metadata": {},
   "source": [
    "# Knapsack"
   ]
  },
  {
   "cell_type": "markdown",
   "metadata": {},
   "source": [
    "$$\n",
    "\\begin{align}\n",
    "    \\text{max} & \\quad \\sum_{i \\in I} c_{i} x_{i}\\\\\n",
    "    \\text{s.t.} & \\quad \\sum_{i \\in I} w_{i} x_{i} \\leq Q\\\\\n",
    "    & x_{i} \\in \\{0, 1\\} & \\forall i \\in I\n",
    "\\end{align}\n",
    "$$"
   ]
  },
  {
   "cell_type": "code",
   "execution_count": 1,
   "metadata": {},
   "outputs": [],
   "source": [
    "import pyomo.environ as pyo"
   ]
  },
  {
   "cell_type": "code",
   "execution_count": 3,
   "metadata": {},
   "outputs": [],
   "source": [
    "# Define input data\n",
    "costs = {\n",
    "    \"A\": 4,\n",
    "    \"B\": 2,\n",
    "    \"C\": 10,\n",
    "    \"D\": 5,\n",
    "    \"E\": 6,\n",
    "}\n",
    "\n",
    "weights = {\n",
    "    \"A\": 3,\n",
    "    \"B\": 2,\n",
    "    \"C\": 7,\n",
    "    \"D\": 4,\n",
    "    \"E\": 5,\n",
    "}\n",
    "\n",
    "capacity = 11"
   ]
  },
  {
   "cell_type": "code",
   "execution_count": 5,
   "metadata": {},
   "outputs": [],
   "source": [
    "# Instantiate model as a Pyomo ConcreteModel\n",
    "model = pyo.ConcreteModel()"
   ]
  },
  {
   "cell_type": "code",
   "execution_count": 12,
   "metadata": {},
   "outputs": [],
   "source": [
    "#costs.keys() # Get the list of items"
   ]
  },
  {
   "cell_type": "code",
   "execution_count": 9,
   "metadata": {},
   "outputs": [],
   "source": [
    "# Sets\n",
    "model.I = pyo.Set(initialize=costs.keys())  # Items"
   ]
  },
  {
   "cell_type": "code",
   "execution_count": 13,
   "metadata": {},
   "outputs": [],
   "source": [
    "#model.I.display() # Display the set of items"
   ]
  },
  {
   "cell_type": "code",
   "execution_count": 14,
   "metadata": {},
   "outputs": [],
   "source": [
    "# Parameters\n",
    "model.c = pyo.Param(model.I, initialize=costs)  # Costs\n",
    "model.w = pyo.Param(model.I, initialize=weights)  # Weights\n",
    "model.Q = pyo.Param(initialize=capacity)  # Capacity"
   ]
  },
  {
   "cell_type": "code",
   "execution_count": 16,
   "metadata": {},
   "outputs": [],
   "source": [
    "#model.c.display() # Display the costs"
   ]
  },
  {
   "cell_type": "code",
   "execution_count": 17,
   "metadata": {},
   "outputs": [],
   "source": [
    "# Variables\n",
    "model.x = pyo.Var(model.I, within=pyo.Binary)  # Selection of items"
   ]
  },
  {
   "cell_type": "code",
   "execution_count": 19,
   "metadata": {},
   "outputs": [],
   "source": [
    "#model.x.display() # Display the variables"
   ]
  },
  {
   "cell_type": "code",
   "execution_count": 20,
   "metadata": {},
   "outputs": [],
   "source": [
    "# Constraints\n",
    "def capacity_cstr(model):\n",
    "    return sum(model.w[i] * model.x[i] for i in model.I) <= model.Q\n",
    "\n",
    "\n",
    "model.cap_cstr = pyo.Constraint(rule=capacity_cstr)  # Capacity constraint"
   ]
  },
  {
   "cell_type": "code",
   "execution_count": 21,
   "metadata": {},
   "outputs": [
    {
     "name": "stdout",
     "output_type": "stream",
     "text": [
      "cap_cstr : Size=1, Index=None, Active=True\n",
      "    Key  : Lower : Body                                       : Upper : Active\n",
      "    None :  -Inf : 3*x[A] + 2*x[B] + 7*x[C] + 4*x[D] + 5*x[E] :  11.0 :   True\n"
     ]
    }
   ],
   "source": [
    "model.cap_cstr.pprint() # Display the capacity constraint"
   ]
  },
  {
   "cell_type": "code",
   "execution_count": 22,
   "metadata": {},
   "outputs": [],
   "source": [
    "# Objective\n",
    "def obj(model):\n",
    "    return sum(model.c[i] * model.x[i] for i in model.I)\n",
    "\n",
    "\n",
    "model.obj = pyo.Objective(rule=obj, sense=pyo.maximize)  # Objective function"
   ]
  },
  {
   "cell_type": "code",
   "execution_count": 23,
   "metadata": {},
   "outputs": [
    {
     "name": "stdout",
     "output_type": "stream",
     "text": [
      "obj : Size=1, Index=None, Active=True\n",
      "    Key  : Active : Sense    : Expression\n",
      "    None :   True : maximize : 4*x[A] + 2*x[B] + 10*x[C] + 5*x[D] + 6*x[E]\n"
     ]
    }
   ],
   "source": [
    "model.obj.pprint() # Display the objective function"
   ]
  },
  {
   "cell_type": "code",
   "execution_count": 24,
   "metadata": {},
   "outputs": [],
   "source": [
    "# Instantiate Highs persistent solver \n",
    "solver = pyo.SolverFactory(\"appsi_highs\")"
   ]
  },
  {
   "cell_type": "code",
   "execution_count": 26,
   "metadata": {},
   "outputs": [
    {
     "name": "stdout",
     "output_type": "stream",
     "text": [
      "\n",
      "Problem: \n",
      "- Lower bound: 15.0\n",
      "  Upper bound: 15.0\n",
      "  Number of objectives: 1\n",
      "  Number of constraints: 0\n",
      "  Number of variables: 0\n",
      "  Sense: maximize\n",
      "Solver: \n",
      "- Status: ok\n",
      "  Termination condition: optimal\n",
      "  Termination message: TerminationCondition.optimal\n",
      "Solution: \n",
      "- number of solutions: 0\n",
      "  number of solutions displayed: 0\n",
      "\n"
     ]
    }
   ],
   "source": [
    "# Apply method solve\n",
    "result = solver.solve(model)\n",
    "print(result)  # Print the result"
   ]
  },
  {
   "cell_type": "code",
   "execution_count": 27,
   "metadata": {},
   "outputs": [
    {
     "data": {
      "text/plain": [
       "{'A': -0.0, 'B': 0.0, 'C': 1.0, 'D': 1.0, 'E': 0.0}"
      ]
     },
     "execution_count": 27,
     "metadata": {},
     "output_type": "execute_result"
    }
   ],
   "source": [
    "# Create output dictionary from variables\n",
    "model.x.extract_values()"
   ]
  },
  {
   "cell_type": "code",
   "execution_count": null,
   "metadata": {},
   "outputs": [],
   "source": []
  }
 ],
 "metadata": {
  "kernelspec": {
   "display_name": "base",
   "language": "python",
   "name": "python3"
  },
  "language_info": {
   "codemirror_mode": {
    "name": "ipython",
    "version": 3
   },
   "file_extension": ".py",
   "mimetype": "text/x-python",
   "name": "python",
   "nbconvert_exporter": "python",
   "pygments_lexer": "ipython3",
   "version": "3.12.3"
  },
  "orig_nbformat": 4
 },
 "nbformat": 4,
 "nbformat_minor": 2
}
