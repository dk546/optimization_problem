{
 "cells": [
  {
   "cell_type": "markdown",
   "metadata": {},
   "source": [
    "# Transportation"
   ]
  },
  {
   "cell_type": "markdown",
   "metadata": {},
   "source": [
    "$$\n",
    "\\begin{align}\n",
    "    \\text{min} \\quad & \\sum_{i \\in I}\\sum_{j \\in J} c_{i, j} x_{i, j} \\\\\n",
    "    \\text{s.t.} \\quad & \\sum_{j \\in J} x_{i, j} \\leq b_{i} & \\forall \\; i \\in I \\\\\n",
    "    \\quad & \\sum_{i \\in I} x_{i, j} = d_{j} & \\forall \\; j \\in J \\\\\n",
    "    & x_{i, j} \\geq 0 & \\forall \\;i \\in I, j \\in J \\\\\n",
    "\\end{align}\n",
    "$$"
   ]
  },
  {
   "cell_type": "code",
   "execution_count": 1,
   "metadata": {},
   "outputs": [],
   "source": [
    "# Python native modules\n",
    "import json\n",
    "\n",
    "# Third-party packages\n",
    "import pandas as pd  # Tabular data\n",
    "import pyomo.environ as pyo"
   ]
  },
  {
   "cell_type": "code",
   "execution_count": 2,
   "metadata": {},
   "outputs": [],
   "source": [
    "# Read input file and store in local variable `input_data`\n",
    "with open(\"input_transp.json\", mode=\"r\", encoding=\"utf8\") as file:\n",
    "    input_data = json.load(file)"
   ]
  },
  {
   "cell_type": "code",
   "execution_count": 8,
   "metadata": {},
   "outputs": [
    {
     "data": {
      "text/plain": [
       "{'availabilities': {'S1': 14, 'S2': 26, 'S3': 11},\n",
       " 'demands': {'C1': 5, 'C2': 13, 'C3': 15, 'C4': 17},\n",
       " 'costs': [{'from': 'S1', 'to': 'C1', 'value': 10},\n",
       "  {'from': 'S1', 'to': 'C2', 'value': 5},\n",
       "  {'from': 'S1', 'to': 'C3', 'value': 20},\n",
       "  {'from': 'S1', 'to': 'C4', 'value': 12},\n",
       "  {'from': 'S2', 'to': 'C1', 'value': 12},\n",
       "  {'from': 'S2', 'to': 'C2', 'value': 7},\n",
       "  {'from': 'S2', 'to': 'C3', 'value': 12},\n",
       "  {'from': 'S2', 'to': 'C4', 'value': 19},\n",
       "  {'from': 'S3', 'to': 'C1', 'value': 6},\n",
       "  {'from': 'S3', 'to': 'C2', 'value': 12},\n",
       "  {'from': 'S3', 'to': 'C3', 'value': 16},\n",
       "  {'from': 'S3', 'to': 'C4', 'value': 17}]}"
      ]
     },
     "execution_count": 8,
     "metadata": {},
     "output_type": "execute_result"
    }
   ],
   "source": [
    "input_data"
   ]
  },
  {
   "cell_type": "code",
   "execution_count": 5,
   "metadata": {},
   "outputs": [],
   "source": [
    "# Create local variables to store input parameters\n",
    "availabilities = input_data[\"availabilities\"]\n",
    "demands = input_data[\"demands\"]\n",
    "\n",
    "# Dictionary of costs indexed by tuples (origin, destination)\n",
    "costs = {\n",
    "    (c[\"from\"], c[\"to\"]): c[\"value\"]\n",
    "    for c in input_data[\"costs\"]\n",
    "}"
   ]
  },
  {
   "cell_type": "code",
   "execution_count": 7,
   "metadata": {},
   "outputs": [
    {
     "data": {
      "text/plain": [
       "{('S1', 'C1'): 10,\n",
       " ('S1', 'C2'): 5,\n",
       " ('S1', 'C3'): 20,\n",
       " ('S1', 'C4'): 12,\n",
       " ('S2', 'C1'): 12,\n",
       " ('S2', 'C2'): 7,\n",
       " ('S2', 'C3'): 12,\n",
       " ('S2', 'C4'): 19,\n",
       " ('S3', 'C1'): 6,\n",
       " ('S3', 'C2'): 12,\n",
       " ('S3', 'C3'): 16,\n",
       " ('S3', 'C4'): 17}"
      ]
     },
     "execution_count": 7,
     "metadata": {},
     "output_type": "execute_result"
    }
   ],
   "source": [
    "costs"
   ]
  },
  {
   "cell_type": "code",
   "execution_count": 9,
   "metadata": {},
   "outputs": [],
   "source": [
    "# Create model instance\n",
    "model = pyo.ConcreteModel()"
   ]
  },
  {
   "cell_type": "code",
   "execution_count": 10,
   "metadata": {},
   "outputs": [],
   "source": [
    "# Sets for suppliers I and customers J\n",
    "model.I = pyo.Set(initialize=availabilities.keys()) \n",
    "model.J = pyo.Set(initialize=demands.keys())"
   ]
  },
  {
   "cell_type": "code",
   "execution_count": 11,
   "metadata": {},
   "outputs": [],
   "source": [
    "# Paramters\n",
    "model.b = pyo.Param(model.I, initialize=availabilities)  # Supply\n",
    "model.d = pyo.Param(model.J, initialize=demands)  # Demand\n",
    "model.c = pyo.Param(model.I, model.J, initialize=costs)  # Cost\n"
   ]
  },
  {
   "cell_type": "code",
   "execution_count": 12,
   "metadata": {},
   "outputs": [
    {
     "name": "stdout",
     "output_type": "stream",
     "text": [
      "c : Size=12, Index=I*J, Domain=Any, Default=None, Mutable=False\n",
      "    Key          : Value\n",
      "    ('S1', 'C1') :    10\n",
      "    ('S1', 'C2') :     5\n",
      "    ('S1', 'C3') :    20\n",
      "    ('S1', 'C4') :    12\n",
      "    ('S2', 'C1') :    12\n",
      "    ('S2', 'C2') :     7\n",
      "    ('S2', 'C3') :    12\n",
      "    ('S2', 'C4') :    19\n",
      "    ('S3', 'C1') :     6\n",
      "    ('S3', 'C2') :    12\n",
      "    ('S3', 'C3') :    16\n",
      "    ('S3', 'C4') :    17\n"
     ]
    }
   ],
   "source": [
    "model.c.display()  # Display cost parameter"
   ]
  },
  {
   "cell_type": "code",
   "execution_count": 13,
   "metadata": {},
   "outputs": [],
   "source": [
    "# Decision variables\n",
    "model.x = pyo.Var(model.I, model.J, within=pyo.NonNegativeReals)  # Amount shipped from I to J"
   ]
  },
  {
   "cell_type": "code",
   "execution_count": 14,
   "metadata": {},
   "outputs": [],
   "source": [
    "# Supplier availablity constraints\n",
    "def av_cstr(model, i):\n",
    "    return sum(model.x[i,:]) <= model.b[i]\n",
    "\n",
    "\n",
    "model.av_cstr = pyo.Constraint(model.I, rule=av_cstr)  # Apply to all suppliers\n"
   ]
  },
  {
   "cell_type": "code",
   "execution_count": 15,
   "metadata": {},
   "outputs": [
    {
     "name": "stdout",
     "output_type": "stream",
     "text": [
      "av_cstr : Size=3, Index=I, Active=True\n",
      "    Key : Lower : Body                                      : Upper : Active\n",
      "     S1 :  -Inf : x[S1,C1] + x[S1,C2] + x[S1,C3] + x[S1,C4] :  14.0 :   True\n",
      "     S2 :  -Inf : x[S2,C1] + x[S2,C2] + x[S2,C3] + x[S2,C4] :  26.0 :   True\n",
      "     S3 :  -Inf : x[S3,C1] + x[S3,C2] + x[S3,C3] + x[S3,C4] :  11.0 :   True\n"
     ]
    }
   ],
   "source": [
    "model.av_cstr.pprint()  # Display constraints"
   ]
  },
  {
   "cell_type": "code",
   "execution_count": 16,
   "metadata": {},
   "outputs": [],
   "source": [
    "# Demand equality constraints\n",
    "def dem_cstr(model, j):\n",
    "    return sum(model.x[:,j]) == model.d[j]  # Demand must be met exactly\n",
    "\n",
    "model.dem_cstr = pyo.Constraint(model.J, rule=dem_cstr)  # Apply to all customers"
   ]
  },
  {
   "cell_type": "code",
   "execution_count": 17,
   "metadata": {},
   "outputs": [
    {
     "name": "stdout",
     "output_type": "stream",
     "text": [
      "dem_cstr : Size=4, Index=J, Active=True\n",
      "    Key : Lower : Body                           : Upper : Active\n",
      "     C1 :   5.0 : x[S1,C1] + x[S2,C1] + x[S3,C1] :   5.0 :   True\n",
      "     C2 :  13.0 : x[S1,C2] + x[S2,C2] + x[S3,C2] :  13.0 :   True\n",
      "     C3 :  15.0 : x[S1,C3] + x[S2,C3] + x[S3,C3] :  15.0 :   True\n",
      "     C4 :  17.0 : x[S1,C4] + x[S2,C4] + x[S3,C4] :  17.0 :   True\n"
     ]
    }
   ],
   "source": [
    "model.dem_cstr.pprint()  # Display constraints"
   ]
  },
  {
   "cell_type": "code",
   "execution_count": 18,
   "metadata": {},
   "outputs": [],
   "source": [
    "# Objective function\n",
    "def obj(model):\n",
    "    total_cost = sum(model.c[i,j] * model.x[i,j] for i in model.I for j in model.J)\n",
    "    return total_cost\n",
    "   \n",
    "\n",
    "model.obj = pyo.Objective(rule=obj, sense=pyo.minimize)  # Minimize total cost"
   ]
  },
  {
   "cell_type": "code",
   "execution_count": 19,
   "metadata": {},
   "outputs": [
    {
     "name": "stdout",
     "output_type": "stream",
     "text": [
      "obj : Size=1, Index=None, Active=True\n",
      "    Key  : Active : Sense    : Expression\n",
      "    None :   True : minimize : 10*x[S1,C1] + 5*x[S1,C2] + 20*x[S1,C3] + 12*x[S1,C4] + 12*x[S2,C1] + 7*x[S2,C2] + 12*x[S2,C3] + 19*x[S2,C4] + 6*x[S3,C1] + 12*x[S3,C2] + 16*x[S3,C3] + 17*x[S3,C4]\n"
     ]
    }
   ],
   "source": [
    "model.obj.pprint()  # Display objective function"
   ]
  },
  {
   "cell_type": "code",
   "execution_count": 20,
   "metadata": {},
   "outputs": [],
   "source": [
    "# Instantiate Highs persistent solver (make sure highspy is installed)\n",
    "solver = pyo.SolverFactory(\"appsi_highs\")"
   ]
  },
  {
   "cell_type": "code",
   "execution_count": 21,
   "metadata": {},
   "outputs": [
    {
     "data": {
      "text/plain": [
       "{'Problem': [{'Lower bound': 526.0, 'Upper bound': 526.0, 'Number of objectives': 1, 'Number of constraints': 0, 'Number of variables': 0, 'Sense': 'minimize'}], 'Solver': [{'Status': 'ok', 'Termination condition': 'optimal', 'Termination message': 'TerminationCondition.optimal'}], 'Solution': [OrderedDict({'number of solutions': 0, 'number of solutions displayed': 0})]}"
      ]
     },
     "execution_count": 21,
     "metadata": {},
     "output_type": "execute_result"
    }
   ],
   "source": [
    "# Apply method solve\n",
    "solver.solve(model)"
   ]
  },
  {
   "cell_type": "code",
   "execution_count": 22,
   "metadata": {},
   "outputs": [
    {
     "data": {
      "text/plain": [
       "526.0"
      ]
     },
     "execution_count": 22,
     "metadata": {},
     "output_type": "execute_result"
    }
   ],
   "source": [
    "# Use objective as a callable to see its value\n",
    "model.obj()"
   ]
  },
  {
   "cell_type": "code",
   "execution_count": 26,
   "metadata": {},
   "outputs": [
    {
     "data": {
      "text/plain": [
       "{('S1', 'C1'): 0.0,\n",
       " ('S1', 'C2'): 2.0,\n",
       " ('S1', 'C3'): 0.0,\n",
       " ('S1', 'C4'): 12.0,\n",
       " ('S2', 'C1'): 0.0,\n",
       " ('S2', 'C2'): 11.0,\n",
       " ('S2', 'C3'): 15.0,\n",
       " ('S2', 'C4'): 0.0,\n",
       " ('S3', 'C1'): 5.0,\n",
       " ('S3', 'C2'): 0.0,\n",
       " ('S3', 'C3'): 0.0,\n",
       " ('S3', 'C4'): 5.0}"
      ]
     },
     "execution_count": 26,
     "metadata": {},
     "output_type": "execute_result"
    }
   ],
   "source": [
    "model.x.extract_values()  # Extract values from decision variables"
   ]
  },
  {
   "cell_type": "code",
   "execution_count": 23,
   "metadata": {},
   "outputs": [],
   "source": [
    "sol = [\n",
    "    {\"from\": i, \"to\": j, \"value\": val}\n",
    "    for (i, j), val in model.x.extract_values().items()\n",
    "]"
   ]
  },
  {
   "cell_type": "code",
   "execution_count": 24,
   "metadata": {},
   "outputs": [],
   "source": [
    "dataframe = pd.DataFrame(sol).pivot(\n",
    "    index=\"from\", columns=\"to\", values=\"value\"\n",
    ")"
   ]
  },
  {
   "cell_type": "code",
   "execution_count": 25,
   "metadata": {},
   "outputs": [
    {
     "data": {
      "text/html": [
       "<div>\n",
       "<style scoped>\n",
       "    .dataframe tbody tr th:only-of-type {\n",
       "        vertical-align: middle;\n",
       "    }\n",
       "\n",
       "    .dataframe tbody tr th {\n",
       "        vertical-align: top;\n",
       "    }\n",
       "\n",
       "    .dataframe thead th {\n",
       "        text-align: right;\n",
       "    }\n",
       "</style>\n",
       "<table border=\"1\" class=\"dataframe\">\n",
       "  <thead>\n",
       "    <tr style=\"text-align: right;\">\n",
       "      <th>to</th>\n",
       "      <th>C1</th>\n",
       "      <th>C2</th>\n",
       "      <th>C3</th>\n",
       "      <th>C4</th>\n",
       "    </tr>\n",
       "    <tr>\n",
       "      <th>from</th>\n",
       "      <th></th>\n",
       "      <th></th>\n",
       "      <th></th>\n",
       "      <th></th>\n",
       "    </tr>\n",
       "  </thead>\n",
       "  <tbody>\n",
       "    <tr>\n",
       "      <th>S1</th>\n",
       "      <td>0.0</td>\n",
       "      <td>2.0</td>\n",
       "      <td>0.0</td>\n",
       "      <td>12.0</td>\n",
       "    </tr>\n",
       "    <tr>\n",
       "      <th>S2</th>\n",
       "      <td>0.0</td>\n",
       "      <td>11.0</td>\n",
       "      <td>15.0</td>\n",
       "      <td>0.0</td>\n",
       "    </tr>\n",
       "    <tr>\n",
       "      <th>S3</th>\n",
       "      <td>5.0</td>\n",
       "      <td>0.0</td>\n",
       "      <td>0.0</td>\n",
       "      <td>5.0</td>\n",
       "    </tr>\n",
       "  </tbody>\n",
       "</table>\n",
       "</div>"
      ],
      "text/plain": [
       "to     C1    C2    C3    C4\n",
       "from                       \n",
       "S1    0.0   2.0   0.0  12.0\n",
       "S2    0.0  11.0  15.0   0.0\n",
       "S3    5.0   0.0   0.0   5.0"
      ]
     },
     "metadata": {},
     "output_type": "display_data"
    }
   ],
   "source": [
    "display(dataframe)"
   ]
  },
  {
   "cell_type": "code",
   "execution_count": null,
   "metadata": {},
   "outputs": [],
   "source": []
  }
 ],
 "metadata": {
  "kernelspec": {
   "display_name": "base",
   "language": "python",
   "name": "python3"
  },
  "language_info": {
   "codemirror_mode": {
    "name": "ipython",
    "version": 3
   },
   "file_extension": ".py",
   "mimetype": "text/x-python",
   "name": "python",
   "nbconvert_exporter": "python",
   "pygments_lexer": "ipython3",
   "version": "3.12.3"
  }
 },
 "nbformat": 4,
 "nbformat_minor": 2
}
