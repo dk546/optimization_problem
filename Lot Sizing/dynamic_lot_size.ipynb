{
 "cells": [
  {
   "attachments": {},
   "cell_type": "markdown",
   "metadata": {},
   "source": [
    "# Dynamic lot-size model"
   ]
  },
  {
   "cell_type": "code",
   "execution_count": null,
   "metadata": {},
   "outputs": [],
   "source": [
    "import numpy as np\n",
    "import pandas as pd\n",
    "import pyomo.environ as pyo\n",
    "import matplotlib.pyplot as plt"
   ]
  },
  {
   "attachments": {},
   "cell_type": "markdown",
   "metadata": {},
   "source": [
    "## Formulation"
   ]
  },
  {
   "attachments": {},
   "cell_type": "markdown",
   "metadata": {},
   "source": [
    "$$\n",
    "\\begin{align}\n",
    "    \\text{min}~~ & \\sum_{t \\in T}{(h_{t} I_{t} + s_{t} y_{t})} \\\\\n",
    "    \\text{s.t.}~~ & I_{t} = I_{t - 1} + x_{t} - d_{t} & \\forall ~ t \\in T; t \\geq 2\\\\\n",
    "    & I_{1} = I_{0} + x_{1} - d_{1}\\\\\n",
    "    & x_{t} \\leq M y_{t} & \\forall ~ t \\in T \\\\\n",
    "    & x_{t}; I_{t} \\geq 0 & \\forall ~ t \\in T \\\\\n",
    "    & y_{t} \\in \\left \\{ 0, 1 \\right \\} & \\forall ~ t \\in T\\\\\n",
    "\\end{align}\n",
    "$$"
   ]
  },
  {
   "attachments": {},
   "cell_type": "markdown",
   "metadata": {},
   "source": [
    "## Import data"
   ]
  },
  {
   "cell_type": "code",
   "execution_count": null,
   "metadata": {},
   "outputs": [],
   "source": [
    "# Read input data\n",
    "dataset = pd.read_csv(\"./input_wagner.csv\", index_col=0)\n",
    "dataset.head()"
   ]
  },
  {
   "cell_type": "code",
   "execution_count": null,
   "metadata": {},
   "outputs": [],
   "source": [
    "# Obtain the maximum cost for comparison\n",
    "max_cost = dataset.setup_cost.sum()\n",
    "print(f\"Maximum cost: {max_cost:.1f}\")"
   ]
  },
  {
   "attachments": {},
   "cell_type": "markdown",
   "metadata": {},
   "source": [
    "## pyomo model"
   ]
  },
  {
   "cell_type": "code",
   "execution_count": null,
   "metadata": {},
   "outputs": [],
   "source": [
    "# Initialize ConcreteModel\n",
    "# model = ###"
   ]
  },
  {
   "cell_type": "code",
   "execution_count": null,
   "metadata": {},
   "outputs": [],
   "source": [
    "# Set: Planning horizon\n",
    "# model.T = pyo.Set(initialize=###)"
   ]
  },
  {
   "cell_type": "code",
   "execution_count": null,
   "metadata": {},
   "outputs": [],
   "source": [
    "# Parameters\n",
    "# ###.d = pyo.Param(###, initialize=###)\n",
    "# model.s = pyo.Param(###, initialize=###)\n",
    "# model.h = pyo.Param(###, initialize=###)\n",
    "\n",
    "# Big M (can we do better?)\n",
    "# model.M = pyo.Param(initialize=###)"
   ]
  },
  {
   "cell_type": "code",
   "execution_count": null,
   "metadata": {},
   "outputs": [],
   "source": [
    "# Decision variables\n",
    "# model.x = pyo.Var(###, within=###)\n",
    "# model.y = pyo.Var(###, within=###)\n",
    "# model.I = pyo.Var(###, within=###)"
   ]
  },
  {
   "cell_type": "code",
   "execution_count": null,
   "metadata": {},
   "outputs": [],
   "source": [
    "# Inventory balance *special in the first instant\n",
    "# def inventory_rule(model, t):\n",
    "#     if t == model.T.first():\n",
    "#         return ###\n",
    "#     else:\n",
    "#         t_prev = model.T.prev(t)\n",
    "#         return ###\n",
    "\n",
    "\n",
    "# model.inventory_rule = pyo.Constraint(###, rule=inventory_rule)"
   ]
  },
  {
   "cell_type": "code",
   "execution_count": null,
   "metadata": {},
   "outputs": [],
   "source": [
    "# Indicator constraint activates y in case x is greater than zero\n",
    "# def active_prod(###, ###):\n",
    "#     return ###\n",
    "\n",
    "\n",
    "# model.active_prod = pyo.Constraint(###, rule=active_prod)"
   ]
  },
  {
   "cell_type": "code",
   "execution_count": null,
   "metadata": {},
   "outputs": [],
   "source": [
    "# Define the objective\n",
    "# def total_holding(###):\n",
    "#     return ###\n",
    "\n",
    "\n",
    "# def total_setup(###):\n",
    "#     return ###\n",
    "\n",
    "\n",
    "# def total_cost(###):\n",
    "#     return ###\n",
    "\n",
    "\n",
    "# model.obj = pyo.Objective(rule=total_cost, sense=###)"
   ]
  },
  {
   "attachments": {},
   "cell_type": "markdown",
   "metadata": {},
   "source": [
    "## Solution"
   ]
  },
  {
   "cell_type": "code",
   "execution_count": null,
   "metadata": {},
   "outputs": [],
   "source": [
    "solver = pyo.SolverFactory(\"appsi_highs\")"
   ]
  },
  {
   "cell_type": "code",
   "execution_count": null,
   "metadata": {},
   "outputs": [],
   "source": [
    "solver.solve(model, tee=True)"
   ]
  },
  {
   "cell_type": "code",
   "execution_count": null,
   "metadata": {},
   "outputs": [],
   "source": [
    "opt_value = model.obj()\n",
    "print(f\"Best cost {opt_value}\")\n",
    "print(f\"% savings {100 * (1 - opt_value / max_cost) :.2f}\")"
   ]
  },
  {
   "cell_type": "code",
   "execution_count": null,
   "metadata": {},
   "outputs": [],
   "source": [
    "dataset[\"production\"] = [model.x[t].value for t in dataset.index]\n",
    "dataset[\"inventory\"] = [model.I[t].value for t in dataset.index]"
   ]
  },
  {
   "cell_type": "code",
   "execution_count": null,
   "metadata": {},
   "outputs": [],
   "source": [
    "fig, ax = plt.subplots(figsize=[6, 3], dpi=100)\n",
    "x = dataset.index\n",
    "width = 0.35\n",
    "ax.bar(x - width/2, dataset.production, width, color=\"darkgreen\", label=\"production\")\n",
    "ax.bar(x + width/2, dataset.demand, width, color=\"navy\", label=\"demand\")\n",
    "ax.set_xticks(x)\n",
    "ax.set_ylabel(\"Qtd\")\n",
    "ax.set_xlabel(\"t\")\n",
    "ax.legend()\n",
    "fig.tight_layout()\n",
    "plt.show()"
   ]
  },
  {
   "cell_type": "code",
   "execution_count": null,
   "metadata": {},
   "outputs": [],
   "source": []
  }
 ],
 "metadata": {
  "kernelspec": {
   "display_name": "Python 3",
   "language": "python",
   "name": "python3"
  },
  "language_info": {
   "codemirror_mode": {
    "name": "ipython",
    "version": 3
   },
   "file_extension": ".py",
   "mimetype": "text/x-python",
   "name": "python",
   "nbconvert_exporter": "python",
   "pygments_lexer": "ipython3",
   "version": "3.9.7"
  },
  "orig_nbformat": 4,
  "vscode": {
   "interpreter": {
    "hash": "22f9b13baaea1acbe777ec66c6afcb217233662477c06351c776723bc94750d1"
   }
  }
 },
 "nbformat": 4,
 "nbformat_minor": 2
}
